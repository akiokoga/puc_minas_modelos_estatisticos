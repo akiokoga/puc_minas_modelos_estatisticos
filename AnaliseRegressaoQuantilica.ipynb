{
  "cells": [
    {
      "cell_type": "markdown",
      "metadata": {
        "id": "LG3riz6Ut5X0"
      },
      "source": [
        "# **REGRESSÃO QUANTÍLICA**"
      ]
    },
    {
      "cell_type": "code",
      "execution_count": 1,
      "metadata": {
        "id": "PGFJHjk0tttU"
      },
      "outputs": [],
      "source": [
        "import numpy as np\n",
        "import pandas as pd"
      ]
    },
    {
      "cell_type": "code",
      "source": [
        "# Carrega a base de dados\n",
        "from google.colab import files\n",
        "uploaded = files.upload()"
      ],
      "metadata": {
        "colab": {
          "base_uri": "https://localhost:8080/",
          "height": 71
        },
        "id": "z9VNzM4w7L0C",
        "outputId": "c51e171a-5e99-4994-9e59-fbe97d540a5c"
      },
      "execution_count": 2,
      "outputs": [
        {
          "output_type": "display_data",
          "data": {
            "text/plain": [
              "<IPython.core.display.HTML object>"
            ],
            "text/html": [
              "\n",
              "     <input type=\"file\" id=\"files-e79cabd8-3f08-42f6-8a34-89095ec85665\" name=\"files[]\" multiple disabled\n",
              "        style=\"border:none\" />\n",
              "     <output id=\"result-e79cabd8-3f08-42f6-8a34-89095ec85665\">\n",
              "      Upload widget is only available when the cell has been executed in the\n",
              "      current browser session. Please rerun this cell to enable.\n",
              "      </output>\n",
              "      <script>// Copyright 2017 Google LLC\n",
              "//\n",
              "// Licensed under the Apache License, Version 2.0 (the \"License\");\n",
              "// you may not use this file except in compliance with the License.\n",
              "// You may obtain a copy of the License at\n",
              "//\n",
              "//      http://www.apache.org/licenses/LICENSE-2.0\n",
              "//\n",
              "// Unless required by applicable law or agreed to in writing, software\n",
              "// distributed under the License is distributed on an \"AS IS\" BASIS,\n",
              "// WITHOUT WARRANTIES OR CONDITIONS OF ANY KIND, either express or implied.\n",
              "// See the License for the specific language governing permissions and\n",
              "// limitations under the License.\n",
              "\n",
              "/**\n",
              " * @fileoverview Helpers for google.colab Python module.\n",
              " */\n",
              "(function(scope) {\n",
              "function span(text, styleAttributes = {}) {\n",
              "  const element = document.createElement('span');\n",
              "  element.textContent = text;\n",
              "  for (const key of Object.keys(styleAttributes)) {\n",
              "    element.style[key] = styleAttributes[key];\n",
              "  }\n",
              "  return element;\n",
              "}\n",
              "\n",
              "// Max number of bytes which will be uploaded at a time.\n",
              "const MAX_PAYLOAD_SIZE = 100 * 1024;\n",
              "\n",
              "function _uploadFiles(inputId, outputId) {\n",
              "  const steps = uploadFilesStep(inputId, outputId);\n",
              "  const outputElement = document.getElementById(outputId);\n",
              "  // Cache steps on the outputElement to make it available for the next call\n",
              "  // to uploadFilesContinue from Python.\n",
              "  outputElement.steps = steps;\n",
              "\n",
              "  return _uploadFilesContinue(outputId);\n",
              "}\n",
              "\n",
              "// This is roughly an async generator (not supported in the browser yet),\n",
              "// where there are multiple asynchronous steps and the Python side is going\n",
              "// to poll for completion of each step.\n",
              "// This uses a Promise to block the python side on completion of each step,\n",
              "// then passes the result of the previous step as the input to the next step.\n",
              "function _uploadFilesContinue(outputId) {\n",
              "  const outputElement = document.getElementById(outputId);\n",
              "  const steps = outputElement.steps;\n",
              "\n",
              "  const next = steps.next(outputElement.lastPromiseValue);\n",
              "  return Promise.resolve(next.value.promise).then((value) => {\n",
              "    // Cache the last promise value to make it available to the next\n",
              "    // step of the generator.\n",
              "    outputElement.lastPromiseValue = value;\n",
              "    return next.value.response;\n",
              "  });\n",
              "}\n",
              "\n",
              "/**\n",
              " * Generator function which is called between each async step of the upload\n",
              " * process.\n",
              " * @param {string} inputId Element ID of the input file picker element.\n",
              " * @param {string} outputId Element ID of the output display.\n",
              " * @return {!Iterable<!Object>} Iterable of next steps.\n",
              " */\n",
              "function* uploadFilesStep(inputId, outputId) {\n",
              "  const inputElement = document.getElementById(inputId);\n",
              "  inputElement.disabled = false;\n",
              "\n",
              "  const outputElement = document.getElementById(outputId);\n",
              "  outputElement.innerHTML = '';\n",
              "\n",
              "  const pickedPromise = new Promise((resolve) => {\n",
              "    inputElement.addEventListener('change', (e) => {\n",
              "      resolve(e.target.files);\n",
              "    });\n",
              "  });\n",
              "\n",
              "  const cancel = document.createElement('button');\n",
              "  inputElement.parentElement.appendChild(cancel);\n",
              "  cancel.textContent = 'Cancel upload';\n",
              "  const cancelPromise = new Promise((resolve) => {\n",
              "    cancel.onclick = () => {\n",
              "      resolve(null);\n",
              "    };\n",
              "  });\n",
              "\n",
              "  // Wait for the user to pick the files.\n",
              "  const files = yield {\n",
              "    promise: Promise.race([pickedPromise, cancelPromise]),\n",
              "    response: {\n",
              "      action: 'starting',\n",
              "    }\n",
              "  };\n",
              "\n",
              "  cancel.remove();\n",
              "\n",
              "  // Disable the input element since further picks are not allowed.\n",
              "  inputElement.disabled = true;\n",
              "\n",
              "  if (!files) {\n",
              "    return {\n",
              "      response: {\n",
              "        action: 'complete',\n",
              "      }\n",
              "    };\n",
              "  }\n",
              "\n",
              "  for (const file of files) {\n",
              "    const li = document.createElement('li');\n",
              "    li.append(span(file.name, {fontWeight: 'bold'}));\n",
              "    li.append(span(\n",
              "        `(${file.type || 'n/a'}) - ${file.size} bytes, ` +\n",
              "        `last modified: ${\n",
              "            file.lastModifiedDate ? file.lastModifiedDate.toLocaleDateString() :\n",
              "                                    'n/a'} - `));\n",
              "    const percent = span('0% done');\n",
              "    li.appendChild(percent);\n",
              "\n",
              "    outputElement.appendChild(li);\n",
              "\n",
              "    const fileDataPromise = new Promise((resolve) => {\n",
              "      const reader = new FileReader();\n",
              "      reader.onload = (e) => {\n",
              "        resolve(e.target.result);\n",
              "      };\n",
              "      reader.readAsArrayBuffer(file);\n",
              "    });\n",
              "    // Wait for the data to be ready.\n",
              "    let fileData = yield {\n",
              "      promise: fileDataPromise,\n",
              "      response: {\n",
              "        action: 'continue',\n",
              "      }\n",
              "    };\n",
              "\n",
              "    // Use a chunked sending to avoid message size limits. See b/62115660.\n",
              "    let position = 0;\n",
              "    do {\n",
              "      const length = Math.min(fileData.byteLength - position, MAX_PAYLOAD_SIZE);\n",
              "      const chunk = new Uint8Array(fileData, position, length);\n",
              "      position += length;\n",
              "\n",
              "      const base64 = btoa(String.fromCharCode.apply(null, chunk));\n",
              "      yield {\n",
              "        response: {\n",
              "          action: 'append',\n",
              "          file: file.name,\n",
              "          data: base64,\n",
              "        },\n",
              "      };\n",
              "\n",
              "      let percentDone = fileData.byteLength === 0 ?\n",
              "          100 :\n",
              "          Math.round((position / fileData.byteLength) * 100);\n",
              "      percent.textContent = `${percentDone}% done`;\n",
              "\n",
              "    } while (position < fileData.byteLength);\n",
              "  }\n",
              "\n",
              "  // All done.\n",
              "  yield {\n",
              "    response: {\n",
              "      action: 'complete',\n",
              "    }\n",
              "  };\n",
              "}\n",
              "\n",
              "scope.google = scope.google || {};\n",
              "scope.google.colab = scope.google.colab || {};\n",
              "scope.google.colab._files = {\n",
              "  _uploadFiles,\n",
              "  _uploadFilesContinue,\n",
              "};\n",
              "})(self);\n",
              "</script> "
            ]
          },
          "metadata": {}
        },
        {
          "output_type": "stream",
          "name": "stdout",
          "text": [
            "Saving gasto_almoco.xlsx to gasto_almoco.xlsx\n"
          ]
        }
      ]
    },
    {
      "cell_type": "code",
      "execution_count": 3,
      "metadata": {
        "id": "wLMmk6o8uEae"
      },
      "outputs": [],
      "source": [
        "gasto = pd.read_excel('gasto_almoco.xlsx')"
      ]
    },
    {
      "cell_type": "markdown",
      "metadata": {
        "id": "FyUUGTpzykQ7"
      },
      "source": [
        "## **ANÁLISE INICIAL**"
      ]
    },
    {
      "cell_type": "code",
      "execution_count": 4,
      "metadata": {
        "id": "GlPMHCa5ulBQ",
        "colab": {
          "base_uri": "https://localhost:8080/",
          "height": 424
        },
        "outputId": "36649424-d013-4a46-f5bb-6d3d0ce81234"
      },
      "outputs": [
        {
          "output_type": "execute_result",
          "data": {
            "text/plain": [
              "    dia  gasto_dia_reais  num_refeicoes  gasto_acum_reais\n",
              "0     1               26              1                26\n",
              "1     2               18              2                44\n",
              "2     3               37              3                81\n",
              "3     4               21              4               102\n",
              "4     5               39              5               141\n",
              "..  ...              ...            ...               ...\n",
              "59   60               33             60              1826\n",
              "60   61               38             61              1864\n",
              "61   62              122             66              1986\n",
              "62   63               34             67              2020\n",
              "63   64               48             68              2068\n",
              "\n",
              "[64 rows x 4 columns]"
            ],
            "text/html": [
              "\n",
              "  <div id=\"df-4c281e10-42e4-47a2-9d4c-9b3e4eb748f2\" class=\"colab-df-container\">\n",
              "    <div>\n",
              "<style scoped>\n",
              "    .dataframe tbody tr th:only-of-type {\n",
              "        vertical-align: middle;\n",
              "    }\n",
              "\n",
              "    .dataframe tbody tr th {\n",
              "        vertical-align: top;\n",
              "    }\n",
              "\n",
              "    .dataframe thead th {\n",
              "        text-align: right;\n",
              "    }\n",
              "</style>\n",
              "<table border=\"1\" class=\"dataframe\">\n",
              "  <thead>\n",
              "    <tr style=\"text-align: right;\">\n",
              "      <th></th>\n",
              "      <th>dia</th>\n",
              "      <th>gasto_dia_reais</th>\n",
              "      <th>num_refeicoes</th>\n",
              "      <th>gasto_acum_reais</th>\n",
              "    </tr>\n",
              "  </thead>\n",
              "  <tbody>\n",
              "    <tr>\n",
              "      <th>0</th>\n",
              "      <td>1</td>\n",
              "      <td>26</td>\n",
              "      <td>1</td>\n",
              "      <td>26</td>\n",
              "    </tr>\n",
              "    <tr>\n",
              "      <th>1</th>\n",
              "      <td>2</td>\n",
              "      <td>18</td>\n",
              "      <td>2</td>\n",
              "      <td>44</td>\n",
              "    </tr>\n",
              "    <tr>\n",
              "      <th>2</th>\n",
              "      <td>3</td>\n",
              "      <td>37</td>\n",
              "      <td>3</td>\n",
              "      <td>81</td>\n",
              "    </tr>\n",
              "    <tr>\n",
              "      <th>3</th>\n",
              "      <td>4</td>\n",
              "      <td>21</td>\n",
              "      <td>4</td>\n",
              "      <td>102</td>\n",
              "    </tr>\n",
              "    <tr>\n",
              "      <th>4</th>\n",
              "      <td>5</td>\n",
              "      <td>39</td>\n",
              "      <td>5</td>\n",
              "      <td>141</td>\n",
              "    </tr>\n",
              "    <tr>\n",
              "      <th>...</th>\n",
              "      <td>...</td>\n",
              "      <td>...</td>\n",
              "      <td>...</td>\n",
              "      <td>...</td>\n",
              "    </tr>\n",
              "    <tr>\n",
              "      <th>59</th>\n",
              "      <td>60</td>\n",
              "      <td>33</td>\n",
              "      <td>60</td>\n",
              "      <td>1826</td>\n",
              "    </tr>\n",
              "    <tr>\n",
              "      <th>60</th>\n",
              "      <td>61</td>\n",
              "      <td>38</td>\n",
              "      <td>61</td>\n",
              "      <td>1864</td>\n",
              "    </tr>\n",
              "    <tr>\n",
              "      <th>61</th>\n",
              "      <td>62</td>\n",
              "      <td>122</td>\n",
              "      <td>66</td>\n",
              "      <td>1986</td>\n",
              "    </tr>\n",
              "    <tr>\n",
              "      <th>62</th>\n",
              "      <td>63</td>\n",
              "      <td>34</td>\n",
              "      <td>67</td>\n",
              "      <td>2020</td>\n",
              "    </tr>\n",
              "    <tr>\n",
              "      <th>63</th>\n",
              "      <td>64</td>\n",
              "      <td>48</td>\n",
              "      <td>68</td>\n",
              "      <td>2068</td>\n",
              "    </tr>\n",
              "  </tbody>\n",
              "</table>\n",
              "<p>64 rows × 4 columns</p>\n",
              "</div>\n",
              "    <div class=\"colab-df-buttons\">\n",
              "\n",
              "  <div class=\"colab-df-container\">\n",
              "    <button class=\"colab-df-convert\" onclick=\"convertToInteractive('df-4c281e10-42e4-47a2-9d4c-9b3e4eb748f2')\"\n",
              "            title=\"Convert this dataframe to an interactive table.\"\n",
              "            style=\"display:none;\">\n",
              "\n",
              "  <svg xmlns=\"http://www.w3.org/2000/svg\" height=\"24px\" viewBox=\"0 -960 960 960\">\n",
              "    <path d=\"M120-120v-720h720v720H120Zm60-500h600v-160H180v160Zm220 220h160v-160H400v160Zm0 220h160v-160H400v160ZM180-400h160v-160H180v160Zm440 0h160v-160H620v160ZM180-180h160v-160H180v160Zm440 0h160v-160H620v160Z\"/>\n",
              "  </svg>\n",
              "    </button>\n",
              "\n",
              "  <style>\n",
              "    .colab-df-container {\n",
              "      display:flex;\n",
              "      gap: 12px;\n",
              "    }\n",
              "\n",
              "    .colab-df-convert {\n",
              "      background-color: #E8F0FE;\n",
              "      border: none;\n",
              "      border-radius: 50%;\n",
              "      cursor: pointer;\n",
              "      display: none;\n",
              "      fill: #1967D2;\n",
              "      height: 32px;\n",
              "      padding: 0 0 0 0;\n",
              "      width: 32px;\n",
              "    }\n",
              "\n",
              "    .colab-df-convert:hover {\n",
              "      background-color: #E2EBFA;\n",
              "      box-shadow: 0px 1px 2px rgba(60, 64, 67, 0.3), 0px 1px 3px 1px rgba(60, 64, 67, 0.15);\n",
              "      fill: #174EA6;\n",
              "    }\n",
              "\n",
              "    .colab-df-buttons div {\n",
              "      margin-bottom: 4px;\n",
              "    }\n",
              "\n",
              "    [theme=dark] .colab-df-convert {\n",
              "      background-color: #3B4455;\n",
              "      fill: #D2E3FC;\n",
              "    }\n",
              "\n",
              "    [theme=dark] .colab-df-convert:hover {\n",
              "      background-color: #434B5C;\n",
              "      box-shadow: 0px 1px 3px 1px rgba(0, 0, 0, 0.15);\n",
              "      filter: drop-shadow(0px 1px 2px rgba(0, 0, 0, 0.3));\n",
              "      fill: #FFFFFF;\n",
              "    }\n",
              "  </style>\n",
              "\n",
              "    <script>\n",
              "      const buttonEl =\n",
              "        document.querySelector('#df-4c281e10-42e4-47a2-9d4c-9b3e4eb748f2 button.colab-df-convert');\n",
              "      buttonEl.style.display =\n",
              "        google.colab.kernel.accessAllowed ? 'block' : 'none';\n",
              "\n",
              "      async function convertToInteractive(key) {\n",
              "        const element = document.querySelector('#df-4c281e10-42e4-47a2-9d4c-9b3e4eb748f2');\n",
              "        const dataTable =\n",
              "          await google.colab.kernel.invokeFunction('convertToInteractive',\n",
              "                                                    [key], {});\n",
              "        if (!dataTable) return;\n",
              "\n",
              "        const docLinkHtml = 'Like what you see? Visit the ' +\n",
              "          '<a target=\"_blank\" href=https://colab.research.google.com/notebooks/data_table.ipynb>data table notebook</a>'\n",
              "          + ' to learn more about interactive tables.';\n",
              "        element.innerHTML = '';\n",
              "        dataTable['output_type'] = 'display_data';\n",
              "        await google.colab.output.renderOutput(dataTable, element);\n",
              "        const docLink = document.createElement('div');\n",
              "        docLink.innerHTML = docLinkHtml;\n",
              "        element.appendChild(docLink);\n",
              "      }\n",
              "    </script>\n",
              "  </div>\n",
              "\n",
              "\n",
              "<div id=\"df-53785a59-1963-4782-8f94-3a8c9605447e\">\n",
              "  <button class=\"colab-df-quickchart\" onclick=\"quickchart('df-53785a59-1963-4782-8f94-3a8c9605447e')\"\n",
              "            title=\"Suggest charts\"\n",
              "            style=\"display:none;\">\n",
              "\n",
              "<svg xmlns=\"http://www.w3.org/2000/svg\" height=\"24px\"viewBox=\"0 0 24 24\"\n",
              "     width=\"24px\">\n",
              "    <g>\n",
              "        <path d=\"M19 3H5c-1.1 0-2 .9-2 2v14c0 1.1.9 2 2 2h14c1.1 0 2-.9 2-2V5c0-1.1-.9-2-2-2zM9 17H7v-7h2v7zm4 0h-2V7h2v10zm4 0h-2v-4h2v4z\"/>\n",
              "    </g>\n",
              "</svg>\n",
              "  </button>\n",
              "\n",
              "<style>\n",
              "  .colab-df-quickchart {\n",
              "      --bg-color: #E8F0FE;\n",
              "      --fill-color: #1967D2;\n",
              "      --hover-bg-color: #E2EBFA;\n",
              "      --hover-fill-color: #174EA6;\n",
              "      --disabled-fill-color: #AAA;\n",
              "      --disabled-bg-color: #DDD;\n",
              "  }\n",
              "\n",
              "  [theme=dark] .colab-df-quickchart {\n",
              "      --bg-color: #3B4455;\n",
              "      --fill-color: #D2E3FC;\n",
              "      --hover-bg-color: #434B5C;\n",
              "      --hover-fill-color: #FFFFFF;\n",
              "      --disabled-bg-color: #3B4455;\n",
              "      --disabled-fill-color: #666;\n",
              "  }\n",
              "\n",
              "  .colab-df-quickchart {\n",
              "    background-color: var(--bg-color);\n",
              "    border: none;\n",
              "    border-radius: 50%;\n",
              "    cursor: pointer;\n",
              "    display: none;\n",
              "    fill: var(--fill-color);\n",
              "    height: 32px;\n",
              "    padding: 0;\n",
              "    width: 32px;\n",
              "  }\n",
              "\n",
              "  .colab-df-quickchart:hover {\n",
              "    background-color: var(--hover-bg-color);\n",
              "    box-shadow: 0 1px 2px rgba(60, 64, 67, 0.3), 0 1px 3px 1px rgba(60, 64, 67, 0.15);\n",
              "    fill: var(--button-hover-fill-color);\n",
              "  }\n",
              "\n",
              "  .colab-df-quickchart-complete:disabled,\n",
              "  .colab-df-quickchart-complete:disabled:hover {\n",
              "    background-color: var(--disabled-bg-color);\n",
              "    fill: var(--disabled-fill-color);\n",
              "    box-shadow: none;\n",
              "  }\n",
              "\n",
              "  .colab-df-spinner {\n",
              "    border: 2px solid var(--fill-color);\n",
              "    border-color: transparent;\n",
              "    border-bottom-color: var(--fill-color);\n",
              "    animation:\n",
              "      spin 1s steps(1) infinite;\n",
              "  }\n",
              "\n",
              "  @keyframes spin {\n",
              "    0% {\n",
              "      border-color: transparent;\n",
              "      border-bottom-color: var(--fill-color);\n",
              "      border-left-color: var(--fill-color);\n",
              "    }\n",
              "    20% {\n",
              "      border-color: transparent;\n",
              "      border-left-color: var(--fill-color);\n",
              "      border-top-color: var(--fill-color);\n",
              "    }\n",
              "    30% {\n",
              "      border-color: transparent;\n",
              "      border-left-color: var(--fill-color);\n",
              "      border-top-color: var(--fill-color);\n",
              "      border-right-color: var(--fill-color);\n",
              "    }\n",
              "    40% {\n",
              "      border-color: transparent;\n",
              "      border-right-color: var(--fill-color);\n",
              "      border-top-color: var(--fill-color);\n",
              "    }\n",
              "    60% {\n",
              "      border-color: transparent;\n",
              "      border-right-color: var(--fill-color);\n",
              "    }\n",
              "    80% {\n",
              "      border-color: transparent;\n",
              "      border-right-color: var(--fill-color);\n",
              "      border-bottom-color: var(--fill-color);\n",
              "    }\n",
              "    90% {\n",
              "      border-color: transparent;\n",
              "      border-bottom-color: var(--fill-color);\n",
              "    }\n",
              "  }\n",
              "</style>\n",
              "\n",
              "  <script>\n",
              "    async function quickchart(key) {\n",
              "      const quickchartButtonEl =\n",
              "        document.querySelector('#' + key + ' button');\n",
              "      quickchartButtonEl.disabled = true;  // To prevent multiple clicks.\n",
              "      quickchartButtonEl.classList.add('colab-df-spinner');\n",
              "      try {\n",
              "        const charts = await google.colab.kernel.invokeFunction(\n",
              "            'suggestCharts', [key], {});\n",
              "      } catch (error) {\n",
              "        console.error('Error during call to suggestCharts:', error);\n",
              "      }\n",
              "      quickchartButtonEl.classList.remove('colab-df-spinner');\n",
              "      quickchartButtonEl.classList.add('colab-df-quickchart-complete');\n",
              "    }\n",
              "    (() => {\n",
              "      let quickchartButtonEl =\n",
              "        document.querySelector('#df-53785a59-1963-4782-8f94-3a8c9605447e button');\n",
              "      quickchartButtonEl.style.display =\n",
              "        google.colab.kernel.accessAllowed ? 'block' : 'none';\n",
              "    })();\n",
              "  </script>\n",
              "</div>\n",
              "\n",
              "    </div>\n",
              "  </div>\n"
            ],
            "application/vnd.google.colaboratory.intrinsic+json": {
              "type": "dataframe",
              "variable_name": "gasto",
              "summary": "{\n  \"name\": \"gasto\",\n  \"rows\": 64,\n  \"fields\": [\n    {\n      \"column\": \"dia\",\n      \"properties\": {\n        \"dtype\": \"number\",\n        \"std\": 18,\n        \"min\": 1,\n        \"max\": 64,\n        \"num_unique_values\": 64,\n        \"samples\": [\n          53,\n          59,\n          1\n        ],\n        \"semantic_type\": \"\",\n        \"description\": \"\"\n      }\n    },\n    {\n      \"column\": \"gasto_dia_reais\",\n      \"properties\": {\n        \"dtype\": \"number\",\n        \"std\": 15,\n        \"min\": 0,\n        \"max\": 122,\n        \"num_unique_values\": 32,\n        \"samples\": [\n          40,\n          20,\n          19\n        ],\n        \"semantic_type\": \"\",\n        \"description\": \"\"\n      }\n    },\n    {\n      \"column\": \"num_refeicoes\",\n      \"properties\": {\n        \"dtype\": \"number\",\n        \"std\": 19,\n        \"min\": 1,\n        \"max\": 68,\n        \"num_unique_values\": 63,\n        \"samples\": [\n          67,\n          59,\n          1\n        ],\n        \"semantic_type\": \"\",\n        \"description\": \"\"\n      }\n    },\n    {\n      \"column\": \"gasto_acum_reais\",\n      \"properties\": {\n        \"dtype\": \"number\",\n        \"std\": 581,\n        \"min\": 26,\n        \"max\": 2068,\n        \"num_unique_values\": 63,\n        \"samples\": [\n          2020,\n          1793,\n          26\n        ],\n        \"semantic_type\": \"\",\n        \"description\": \"\"\n      }\n    }\n  ]\n}"
            }
          },
          "metadata": {},
          "execution_count": 4
        }
      ],
      "source": [
        "gasto.head(64)"
      ]
    },
    {
      "cell_type": "code",
      "execution_count": 5,
      "metadata": {
        "id": "KbGPwqglutkg",
        "colab": {
          "base_uri": "https://localhost:8080/"
        },
        "outputId": "cf84a396-eb46-44e1-eaf3-1eb365eb88da"
      },
      "outputs": [
        {
          "output_type": "execute_result",
          "data": {
            "text/plain": [
              "(64, 4)"
            ]
          },
          "metadata": {},
          "execution_count": 5
        }
      ],
      "source": [
        "gasto.shape"
      ]
    },
    {
      "cell_type": "markdown",
      "metadata": {
        "id": "eKnouWHjwaLq"
      },
      "source": [
        "**Valores Missing**"
      ]
    },
    {
      "cell_type": "code",
      "execution_count": 6,
      "metadata": {
        "id": "su5LpAysv88V",
        "colab": {
          "base_uri": "https://localhost:8080/"
        },
        "outputId": "5b17d29e-23fc-4b49-984b-08232efa7615"
      },
      "outputs": [
        {
          "output_type": "execute_result",
          "data": {
            "text/plain": [
              "dia                 0\n",
              "gasto_dia_reais     0\n",
              "num_refeicoes       0\n",
              "gasto_acum_reais    0\n",
              "dtype: int64"
            ]
          },
          "metadata": {},
          "execution_count": 6
        }
      ],
      "source": [
        "gasto.isnull().sum()"
      ]
    },
    {
      "cell_type": "code",
      "execution_count": 7,
      "metadata": {
        "id": "ZhJwSrSBzM4l",
        "colab": {
          "base_uri": "https://localhost:8080/"
        },
        "outputId": "eb27737a-667e-494f-fe4f-eff05566d06e"
      },
      "outputs": [
        {
          "output_type": "execute_result",
          "data": {
            "text/plain": [
              "dia                 int64\n",
              "gasto_dia_reais     int64\n",
              "num_refeicoes       int64\n",
              "gasto_acum_reais    int64\n",
              "dtype: object"
            ]
          },
          "metadata": {},
          "execution_count": 7
        }
      ],
      "source": [
        "# Análise dos tipos de atributos.\n",
        "gasto.dtypes"
      ]
    },
    {
      "cell_type": "markdown",
      "metadata": {
        "id": "dYZelKuC2PhH"
      },
      "source": [
        "**Análise da correlação linear**"
      ]
    },
    {
      "cell_type": "code",
      "execution_count": 8,
      "metadata": {
        "id": "S5K1OyD0ENZF"
      },
      "outputs": [],
      "source": [
        "import matplotlib.pyplot as plt"
      ]
    },
    {
      "cell_type": "code",
      "execution_count": 9,
      "metadata": {
        "id": "VvoT4CnsEOEl",
        "colab": {
          "base_uri": "https://localhost:8080/",
          "height": 449
        },
        "outputId": "8d10f011-cf87-4ae9-f91d-a5cbcc41d719"
      },
      "outputs": [
        {
          "output_type": "display_data",
          "data": {
            "text/plain": [
              "<Figure size 640x480 with 1 Axes>"
            ],
            "image/png": "[encoded data removed]"
          },
          "metadata": {}
        }
      ],
      "source": [
        "plt.scatter(gasto.dia,gasto.gasto_acum_reais)\n",
        "plt.xlabel('Dia')\n",
        "plt.ylabel('Gastos')\n",
        "plt.grid(False)\n",
        "plt.show()"
      ]
    },
    {
      "cell_type": "markdown",
      "metadata": {
        "id": "_dOyeKE2AesY"
      },
      "source": [
        "**Análise da Normalidade**"
      ]
    },
    {
      "cell_type": "markdown",
      "metadata": {
        "id": "U4MnqZjNG_29"
      },
      "source": [
        "Gráfico QQ-Plot"
      ]
    },
    {
      "cell_type": "code",
      "execution_count": 10,
      "metadata": {
        "id": "o3lb2FS7A9MU"
      },
      "outputs": [],
      "source": [
        "import scipy.stats as stats"
      ]
    },
    {
      "cell_type": "code",
      "execution_count": 11,
      "metadata": {
        "id": "LD3otdF6G8D1",
        "colab": {
          "base_uri": "https://localhost:8080/",
          "height": 472
        },
        "outputId": "2eab76f6-4802-4a58-f4f5-484cf9a6aa86"
      },
      "outputs": [
        {
          "output_type": "display_data",
          "data": {
            "text/plain": [
              "<Figure size 640x480 with 1 Axes>"
            ],
            "image/png": "[encoded data removed]"
          },
          "metadata": {}
        }
      ],
      "source": [
        "stats.probplot(gasto['gasto_acum_reais'], dist=\"norm\", plot=plt)\n",
        "plt.title(\"Normal Q-Q plot\")\n",
        "plt.show()"
      ]
    },
    {
      "cell_type": "markdown",
      "metadata": {
        "id": "b38jbpVpBSrN"
      },
      "source": [
        "Teste Shapiro-Wilk"
      ]
    },
    {
      "cell_type": "markdown",
      "metadata": {
        "id": "UBCGqxZiCKzR"
      },
      "source": [
        "Ho = distribuição normal : p > 0.05\n",
        "\n",
        "Ha = distribuição != normal : p <= 0.05"
      ]
    },
    {
      "cell_type": "code",
      "execution_count": 12,
      "metadata": {
        "id": "5wcDiCVBL5Ax",
        "colab": {
          "base_uri": "https://localhost:8080/"
        },
        "outputId": "0317512b-5be8-439b-a638-6de94cc638ad"
      },
      "outputs": [
        {
          "output_type": "execute_result",
          "data": {
            "text/plain": [
              "ShapiroResult(statistic=0.9621436595916748, pvalue=0.047125596553087234)"
            ]
          },
          "metadata": {},
          "execution_count": 12
        }
      ],
      "source": [
        "stats.shapiro(gasto.gasto_acum_reais)"
      ]
    },
    {
      "cell_type": "code",
      "execution_count": 13,
      "metadata": {
        "id": "wxg4KYhAAqIP",
        "colab": {
          "base_uri": "https://localhost:8080/"
        },
        "outputId": "674d51f7-6656-42c3-9c7f-a5ee141b69aa"
      },
      "outputs": [
        {
          "output_type": "stream",
          "name": "stdout",
          "text": [
            "Estatística do teste: 0.9621436595916748\n",
            "p-valor: 0.047125596553087234\n"
          ]
        }
      ],
      "source": [
        "estatistica, p = stats.shapiro(gasto.gasto_acum_reais)\n",
        "print('Estatística do teste: {}'.format(estatistica))\n",
        "print('p-valor: {}'.format(p))"
      ]
    },
    {
      "cell_type": "markdown",
      "metadata": {
        "id": "uq5tgQBfnKEW"
      },
      "source": [
        "**Correlação Linear**"
      ]
    },
    {
      "cell_type": "markdown",
      "metadata": {
        "id": "AINeGYMRQPdW"
      },
      "source": [
        "Pearson (distribuição normal)\n",
        "\n",
        "Spearman (distribuição não normal)\n",
        "\n",
        "Kendall (distribuição não normal com quantidade pequena de amostras)"
      ]
    },
    {
      "cell_type": "markdown",
      "metadata": {
        "id": "zqLl2LgkQbs3"
      },
      "source": [
        "Ho = não há corrrelação linear: p > 0,05\n",
        "\n",
        "Ha = existe correlação linear: p <= 0,05"
      ]
    },
    {
      "cell_type": "code",
      "execution_count": 14,
      "metadata": {
        "id": "c0Qs5Jf2UR_1",
        "colab": {
          "base_uri": "https://localhost:8080/"
        },
        "outputId": "08202663-ea54-4887-8131-e9d82b77b75b"
      },
      "outputs": [
        {
          "output_type": "stream",
          "name": "stdout",
          "text": [
            "Coeficiente de correlação: 0.9991907427078194\n",
            "p-valor: 3.030401482844131e-88\n"
          ]
        }
      ],
      "source": [
        "# Pearson\n",
        "coef,p = stats.pearsonr(gasto.dia,gasto.gasto_acum_reais)\n",
        "print('Coeficiente de correlação: {}'.format(coef))\n",
        "print('p-valor: {}'.format(p))"
      ]
    },
    {
      "cell_type": "code",
      "execution_count": 15,
      "metadata": {
        "id": "K1dnDGnDVMQU",
        "colab": {
          "base_uri": "https://localhost:8080/"
        },
        "outputId": "93ece91c-6ca5-4e0f-d969-59b66a02ba54"
      },
      "outputs": [
        {
          "output_type": "stream",
          "name": "stdout",
          "text": [
            "Coeficiente de correlação: 0.9999885530480366\n",
            "p-valor: 1.4296719644744235e-145\n"
          ]
        }
      ],
      "source": [
        "# Spearman\n",
        "coef,p = stats.spearmanr(gasto.dia,gasto.gasto_acum_reais)\n",
        "print('Coeficiente de correlação: {}'.format(coef))\n",
        "print('p-valor: {}'.format(p))"
      ]
    },
    {
      "cell_type": "markdown",
      "metadata": {
        "id": "vweRiKB5WF71"
      },
      "source": [
        "## **MODELO DE REGRESSÃO LINEAR**"
      ]
    },
    {
      "cell_type": "code",
      "execution_count": 16,
      "metadata": {
        "id": "zFuMSGRTG0Nd"
      },
      "outputs": [],
      "source": [
        "import statsmodels.formula.api as smf\n",
        "import statsmodels.stats.api as sms"
      ]
    },
    {
      "cell_type": "code",
      "execution_count": 17,
      "metadata": {
        "id": "MeznMmquUZk9"
      },
      "outputs": [],
      "source": [
        "# Criação do modelo\n",
        "regressao_linear = smf.ols('gasto_acum_reais ~ dia', data = gasto).fit()"
      ]
    },
    {
      "cell_type": "code",
      "execution_count": 18,
      "metadata": {
        "id": "06FXDsfy7Tv4"
      },
      "outputs": [],
      "source": [
        "residuos = regressao_linear.resid"
      ]
    },
    {
      "cell_type": "markdown",
      "metadata": {
        "id": "eAHuUe4jbiP7"
      },
      "source": [
        "**Teste de Normalidade dos resíduos**"
      ]
    },
    {
      "cell_type": "markdown",
      "metadata": {
        "id": "Kwk129HhZNtv"
      },
      "source": [
        "Ho = distribuição normal : p > 0.05\n",
        "\n",
        "Ha = distribuição != normal : p <= 0.05"
      ]
    },
    {
      "cell_type": "code",
      "execution_count": 19,
      "metadata": {
        "id": "krlGYS1ZbdqO",
        "colab": {
          "base_uri": "https://localhost:8080/"
        },
        "outputId": "09dfa3ec-38c0-40e0-da7a-ae307b3e541a"
      },
      "outputs": [
        {
          "output_type": "stream",
          "name": "stdout",
          "text": [
            "Estatística de teste: 0.8646502494812012\n",
            "p-valor: 4.71544126412482e-06\n"
          ]
        }
      ],
      "source": [
        "estatistica, p = stats.shapiro(residuos)\n",
        "print('Estatística de teste: {}'.format(estatistica))\n",
        "print('p-valor: {}'.format(p))"
      ]
    },
    {
      "cell_type": "code",
      "execution_count": 20,
      "metadata": {
        "id": "Kt8lZ51mcSec",
        "colab": {
          "base_uri": "https://localhost:8080/",
          "height": 472
        },
        "outputId": "eb7f69d0-b82e-4a91-8195-30c8fa01eabf"
      },
      "outputs": [
        {
          "output_type": "display_data",
          "data": {
            "text/plain": [
              "<Figure size 640x480 with 1 Axes>"
            ],
            "image/png": "[encoded data removed]"
          },
          "metadata": {}
        }
      ],
      "source": [
        "stats.probplot(residuos, dist=\"norm\", plot=plt)\n",
        "plt.title(\"Normal Q-Q plot - Resíduos\")\n",
        "plt.show()"
      ]
    },
    {
      "cell_type": "markdown",
      "metadata": {
        "id": "xVnnlrFqr2ws"
      },
      "source": [
        "**Análise da Homocedasticidade dos resíduos**\n",
        "(resíduos com variação constante)  "
      ]
    },
    {
      "cell_type": "code",
      "execution_count": 21,
      "metadata": {
        "id": "z8aZ9dArocJ4",
        "colab": {
          "base_uri": "https://localhost:8080/",
          "height": 449
        },
        "outputId": "67559298-ebdd-4ed7-aa0b-54e0242a3d17"
      },
      "outputs": [
        {
          "output_type": "display_data",
          "data": {
            "text/plain": [
              "<Figure size 640x480 with 1 Axes>"
            ],
            "image/png": "[encoded data removed]"
          },
          "metadata": {}
        }
      ],
      "source": [
        "plt.scatter(y=residuos, x=regressao_linear.predict(), color='red')\n",
        "plt.hlines(y=0, xmin=0, xmax=4, color='orange')\n",
        "plt.ylabel('Resíduos')\n",
        "plt.xlabel('Valores Preditos')\n",
        "plt.show()"
      ]
    },
    {
      "cell_type": "markdown",
      "metadata": {
        "id": "9zkKh9XQcZrJ"
      },
      "source": [
        "Teste Breusch-Pagan (Homocedasticidade ou heterocedasticidade)"
      ]
    },
    {
      "cell_type": "markdown",
      "metadata": {
        "id": "74rj-ZfvcYYO"
      },
      "source": [
        "Ho = existe homocedasticidade : p > 0.05\n",
        "\n",
        "Ha = não existe homocedasticidade : p <= 0.05"
      ]
    },
    {
      "cell_type": "code",
      "execution_count": 22,
      "metadata": {
        "id": "2RScGd9LYt83"
      },
      "outputs": [],
      "source": [
        "from statsmodels.compat import lzip\n",
        "import statsmodels.stats.api as sms"
      ]
    },
    {
      "cell_type": "code",
      "execution_count": 23,
      "metadata": {
        "id": "Q7dLJFtoYuHS",
        "colab": {
          "base_uri": "https://localhost:8080/"
        },
        "outputId": "ce903fa4-ba64-4458-f135-c412030ceb3b"
      },
      "outputs": [
        {
          "output_type": "stream",
          "name": "stdout",
          "text": [
            "Estatística de teste: 8.551798019780456\n",
            "p-valor: 0.0034518111668789633\n",
            "f-valor: 9.562284407626684\n",
            "f_p-valor: 0.0029756698764907595\n"
          ]
        }
      ],
      "source": [
        "estatistica, p, f, fp = sms.het_breuschpagan (regressao_linear.resid, regressao_linear.model.exog)\n",
        "print('Estatística de teste: {}'.format(estatistica))\n",
        "print('p-valor: {}'.format(p))\n",
        "print('f-valor: {}'.format(f))\n",
        "print('f_p-valor: {}'.format(fp))"
      ]
    },
    {
      "cell_type": "markdown",
      "metadata": {
        "id": "SX_KI2zSgLyz"
      },
      "source": [
        "**Outliers nos resíduos**"
      ]
    },
    {
      "cell_type": "markdown",
      "metadata": {
        "id": "GZ6ZdkvbgghP"
      },
      "source": [
        "(Entre -3 e 3)"
      ]
    },
    {
      "cell_type": "code",
      "execution_count": 24,
      "metadata": {
        "id": "-ngGQAjbYuSZ"
      },
      "outputs": [],
      "source": [
        "outliers = regressao_linear.outlier_test()"
      ]
    },
    {
      "cell_type": "code",
      "execution_count": 25,
      "metadata": {
        "id": "CcDEfP_MdgFS",
        "colab": {
          "base_uri": "https://localhost:8080/"
        },
        "outputId": "4ddd11cc-c6d6-477a-cd98-559e3a2491ce"
      },
      "outputs": [
        {
          "output_type": "execute_result",
          "data": {
            "text/plain": [
              "student_resid    4.458242\n",
              "unadj_p          0.982688\n",
              "bonf(p)          1.000000\n",
              "dtype: float64"
            ]
          },
          "metadata": {},
          "execution_count": 25
        }
      ],
      "source": [
        "outliers.max()"
      ]
    },
    {
      "cell_type": "code",
      "execution_count": 26,
      "metadata": {
        "id": "Vd7oXnZ8dgIm",
        "colab": {
          "base_uri": "https://localhost:8080/"
        },
        "outputId": "a9166039-5d8f-4cf0-e3ea-ac424f72a9b1"
      },
      "outputs": [
        {
          "output_type": "execute_result",
          "data": {
            "text/plain": [
              "student_resid   -1.305146\n",
              "unadj_p          0.000036\n",
              "bonf(p)          0.002309\n",
              "dtype: float64"
            ]
          },
          "metadata": {},
          "execution_count": 26
        }
      ],
      "source": [
        "outliers.min()"
      ]
    },
    {
      "cell_type": "markdown",
      "metadata": {
        "id": "cPABWbxog7WL"
      },
      "source": [
        "**Modelo Reprovado: Resíduos sem distribuição normal, com presença de outliers e presença de heterocedasticidade**"
      ]
    },
    {
      "cell_type": "markdown",
      "metadata": {
        "id": "1TpePFZ29Vwr"
      },
      "source": [
        "## **MODELO DE REGRESSÃO QUANTÍLICA**"
      ]
    },
    {
      "cell_type": "code",
      "execution_count": 27,
      "metadata": {
        "id": "MTmbL4i1_IOo",
        "colab": {
          "base_uri": "https://localhost:8080/"
        },
        "outputId": "6e98111b-c747-4232-a85e-ac7e8faff647"
      },
      "outputs": [
        {
          "output_type": "stream",
          "name": "stdout",
          "text": [
            "                         QuantReg Regression Results                          \n",
            "==============================================================================\n",
            "Dep. Variable:       gasto_acum_reais   Pseudo R-squared:               0.9705\n",
            "Model:                       QuantReg   Bandwidth:                       19.83\n",
            "Method:                 Least Squares   Sparsity:                        52.15\n",
            "Date:                Sun, 28 Apr 2024   No. Observations:                   64\n",
            "Time:                        22:57:17   Df Residuals:                       62\n",
            "                                        Df Model:                            1\n",
            "==============================================================================\n",
            "                 coef    std err          t      P>|t|      [0.025      0.975]\n",
            "------------------------------------------------------------------------------\n",
            "Intercept    -21.7143      6.536     -3.322      0.002     -34.780      -8.648\n",
            "dia           30.9286      0.181    171.127      0.000      30.567      31.290\n",
            "==============================================================================\n"
          ]
        }
      ],
      "source": [
        "modelo1 = smf.quantreg('gasto_acum_reais ~ dia', gasto)\n",
        "resultado = modelo1.fit(q=0.25)\n",
        "print(resultado.summary())"
      ]
    },
    {
      "cell_type": "markdown",
      "metadata": {
        "id": "D1pDx5Ss_osl"
      },
      "source": [
        "**Equação:** gasto_acum = - 21,7143 + 30,9286 * dia"
      ]
    },
    {
      "cell_type": "code",
      "execution_count": 28,
      "metadata": {
        "id": "PaMsTuwFASJt",
        "colab": {
          "base_uri": "https://localhost:8080/"
        },
        "outputId": "692c8f6a-181e-4e2c-f23d-29c8b5763338"
      },
      "outputs": [
        {
          "output_type": "stream",
          "name": "stdout",
          "text": [
            "                         QuantReg Regression Results                          \n",
            "==============================================================================\n",
            "Dep. Variable:       gasto_acum_reais   Pseudo R-squared:               0.9691\n",
            "Model:                       QuantReg   Bandwidth:                       19.52\n",
            "Method:                 Least Squares   Sparsity:                        43.96\n",
            "Date:                Sun, 28 Apr 2024   No. Observations:                   64\n",
            "Time:                        22:57:18   Df Residuals:                       62\n",
            "                                        Df Model:                            1\n",
            "==============================================================================\n",
            "                 coef    std err          t      P>|t|      [0.025      0.975]\n",
            "------------------------------------------------------------------------------\n",
            "Intercept     -8.0313      5.560     -1.445      0.154     -19.145       3.082\n",
            "dia           30.7813      0.149    206.976      0.000      30.484      31.079\n",
            "==============================================================================\n"
          ]
        }
      ],
      "source": [
        "modelo2 = smf.quantreg('gasto_acum_reais ~ dia', gasto)\n",
        "resultado = modelo2.fit(q=0.5)\n",
        "print(resultado.summary())"
      ]
    },
    {
      "cell_type": "markdown",
      "metadata": {
        "id": "k18nfMdFAYbL"
      },
      "source": [
        "**Equação:** gasto_acum = - 8,0313 + 30,7813 * dia"
      ]
    },
    {
      "cell_type": "code",
      "execution_count": 29,
      "metadata": {
        "id": "kLzucD1qAphO",
        "colab": {
          "base_uri": "https://localhost:8080/"
        },
        "outputId": "184626df-1264-487c-a443-e2e6e797f5cd"
      },
      "outputs": [
        {
          "output_type": "stream",
          "name": "stdout",
          "text": [
            "                         QuantReg Regression Results                          \n",
            "==============================================================================\n",
            "Dep. Variable:       gasto_acum_reais   Pseudo R-squared:               0.9624\n",
            "Model:                       QuantReg   Bandwidth:                       15.65\n",
            "Method:                 Least Squares   Sparsity:                        45.18\n",
            "Date:                Sun, 28 Apr 2024   No. Observations:                   64\n",
            "Time:                        22:57:19   Df Residuals:                       62\n",
            "                                        Df Model:                            1\n",
            "==============================================================================\n",
            "                 coef    std err          t      P>|t|      [0.025      0.975]\n",
            "------------------------------------------------------------------------------\n",
            "Intercept     13.4074      4.735      2.831      0.006       3.942      22.873\n",
            "dia           30.4815      0.124    246.731      0.000      30.235      30.728\n",
            "==============================================================================\n"
          ]
        }
      ],
      "source": [
        "modelo3 = smf.quantreg('gasto_acum_reais ~ dia', gasto)\n",
        "resultado = modelo3.fit(q=0.75)\n",
        "print(resultado.summary())"
      ]
    },
    {
      "cell_type": "markdown",
      "metadata": {
        "id": "8XfOQ27XAphQ"
      },
      "source": [
        "**Equação:** gasto_acum = 13,4074 + 30,4815 * dia"
      ]
    },
    {
      "cell_type": "code",
      "execution_count": 30,
      "metadata": {
        "id": "az20-9CsBj1v",
        "colab": {
          "base_uri": "https://localhost:8080/"
        },
        "outputId": "8c503273-f07d-4799-9ab1-361a60f0ac8d"
      },
      "outputs": [
        {
          "output_type": "stream",
          "name": "stdout",
          "text": [
            "                         QuantReg Regression Results                          \n",
            "==============================================================================\n",
            "Dep. Variable:       gasto_acum_reais   Pseudo R-squared:               0.9537\n",
            "Model:                       QuantReg   Bandwidth:                       27.08\n",
            "Method:                 Least Squares   Sparsity:                        94.22\n",
            "Date:                Sun, 28 Apr 2024   No. Observations:                   64\n",
            "Time:                        22:57:19   Df Residuals:                       62\n",
            "                                        Df Model:                            1\n",
            "==============================================================================\n",
            "                 coef    std err          t      P>|t|      [0.025      0.975]\n",
            "------------------------------------------------------------------------------\n",
            "Intercept     -5.4000     10.507     -0.514      0.609     -26.403      15.603\n",
            "dia           31.4000      0.276    113.865      0.000      30.849      31.951\n",
            "==============================================================================\n"
          ]
        }
      ],
      "source": [
        "modelo4 = smf.quantreg('gasto_acum_reais ~ dia', gasto)\n",
        "resultado = modelo4.fit(q=0.85)\n",
        "print(resultado.summary())"
      ]
    },
    {
      "cell_type": "markdown",
      "metadata": {
        "id": "PV6ndIg4Bj1y"
      },
      "source": [
        "**Equação:** gasto_acum = - 5,4 + 31,4 * dia"
      ]
    },
    {
      "cell_type": "code",
      "execution_count": 31,
      "metadata": {
        "id": "1Tn716PoB6gl",
        "colab": {
          "base_uri": "https://localhost:8080/"
        },
        "outputId": "03e18522-e7c0-4e9f-b76a-c1132602b88a"
      },
      "outputs": [
        {
          "output_type": "stream",
          "name": "stdout",
          "text": [
            "                         QuantReg Regression Results                          \n",
            "==============================================================================\n",
            "Dep. Variable:       gasto_acum_reais   Pseudo R-squared:               0.9545\n",
            "Model:                       QuantReg   Bandwidth:                         nan\n",
            "Method:                 Least Squares   Sparsity:                          nan\n",
            "Date:                Sun, 28 Apr 2024   No. Observations:                   64\n",
            "Time:                        22:57:20   Df Residuals:                       62\n",
            "                                        Df Model:                            1\n",
            "==============================================================================\n",
            "                 coef    std err          t      P>|t|      [0.025      0.975]\n",
            "------------------------------------------------------------------------------\n",
            "Intercept     -6.4127        nan        nan        nan         nan         nan\n",
            "dia           32.4127        nan        nan        nan         nan         nan\n",
            "==============================================================================\n"
          ]
        }
      ],
      "source": [
        "modelo5 = smf.quantreg('gasto_acum_reais ~ dia', gasto)\n",
        "resultado = modelo5.fit(q=0.99999)\n",
        "print(resultado.summary())"
      ]
    },
    {
      "cell_type": "markdown",
      "metadata": {
        "id": "xuDFJVu-B6gn"
      },
      "source": [
        "**Equação:** gasto_acum = - 6,4127 + 32,4127 * dia"
      ]
    },
    {
      "cell_type": "markdown",
      "metadata": {
        "id": "lpAdpp1uDYpG"
      },
      "source": [
        "**Comparando com a regressão linear**"
      ]
    },
    {
      "cell_type": "code",
      "execution_count": 32,
      "metadata": {
        "id": "0lKIgKX6DJCw",
        "colab": {
          "base_uri": "https://localhost:8080/"
        },
        "outputId": "214cd558-9cf6-4dbb-97e3-fa7037319e95"
      },
      "outputs": [
        {
          "output_type": "stream",
          "name": "stdout",
          "text": [
            "                            OLS Regression Results                            \n",
            "==============================================================================\n",
            "Dep. Variable:       gasto_acum_reais   R-squared:                       0.998\n",
            "Model:                            OLS   Adj. R-squared:                  0.998\n",
            "Method:                 Least Squares   F-statistic:                 3.826e+04\n",
            "Date:                Sun, 28 Apr 2024   Prob (F-statistic):           3.03e-88\n",
            "Time:                        22:57:21   Log-Likelihood:                -292.04\n",
            "No. Observations:                  64   AIC:                             588.1\n",
            "Df Residuals:                      62   BIC:                             592.4\n",
            "Df Model:                           1                                         \n",
            "Covariance Type:            nonrobust                                         \n",
            "==============================================================================\n",
            "                 coef    std err          t      P>|t|      [0.025      0.975]\n",
            "------------------------------------------------------------------------------\n",
            "Intercept    -17.8542      5.963     -2.994      0.004     -29.773      -5.935\n",
            "dia           31.1984      0.159    195.602      0.000      30.880      31.517\n",
            "==============================================================================\n",
            "Omnibus:                       30.772   Durbin-Watson:                   0.438\n",
            "Prob(Omnibus):                  0.000   Jarque-Bera (JB):               62.390\n",
            "Skew:                           1.606   Prob(JB):                     2.83e-14\n",
            "Kurtosis:                       6.616   Cond. No.                         75.7\n",
            "==============================================================================\n",
            "\n",
            "Notes:\n",
            "[1] Standard Errors assume that the covariance matrix of the errors is correctly specified.\n"
          ]
        }
      ],
      "source": [
        "print(regressao_linear.summary())"
      ]
    },
    {
      "cell_type": "markdown",
      "metadata": {
        "id": "sB6XPk0LDtsU"
      },
      "source": [
        "**Equação:** gasto_acum = - 17,8542 + 31,1984 * dia"
      ]
    }
  ],
  "metadata": {
    "colab": {
      "provenance": []
    },
    "kernelspec": {
      "display_name": "Python 3 (ipykernel)",
      "language": "python",
      "name": "python3"
    },
    "language_info": {
      "codemirror_mode": {
        "name": "ipython",
        "version": 3
      },
      "file_extension": ".py",
      "mimetype": "text/x-python",
      "name": "python",
      "nbconvert_exporter": "python",
      "pygments_lexer": "ipython3",
      "version": "3.9.5"
    }
  },
  "nbformat": 4,
  "nbformat_minor": 0
}